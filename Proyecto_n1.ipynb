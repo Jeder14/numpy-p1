{
  "nbformat": 4,
  "nbformat_minor": 0,
  "metadata": {
    "colab": {
      "provenance": [],
      "authorship_tag": "ABX9TyOc4zxqF7mkigmhxz4EqCAr",
      "include_colab_link": true
    },
    "kernelspec": {
      "name": "python3",
      "display_name": "Python 3"
    },
    "language_info": {
      "name": "python"
    }
  },
  "cells": [
    {
      "cell_type": "markdown",
      "metadata": {
        "id": "view-in-github",
        "colab_type": "text"
      },
      "source": [
        "<a href=\"https://colab.research.google.com/github/Jeder14/numpy-proyecto1/blob/main/Proyecto_n1.ipynb\" target=\"_parent\"><img src=\"https://colab.research.google.com/assets/colab-badge.svg\" alt=\"Open In Colab\"/></a>"
      ]
    },
    {
      "cell_type": "code",
      "execution_count": 39,
      "metadata": {
        "colab": {
          "base_uri": "https://localhost:8080/"
        },
        "id": "yTvm2pWyUiMu",
        "outputId": "c30c6a43-185b-4128-c40c-43286d907d84"
      },
      "outputs": [
        {
          "output_type": "stream",
          "name": "stdout",
          "text": [
            "fatal: destination path 'numpy-proyecto1' already exists and is not an empty directory.\n"
          ]
        }
      ],
      "source": [
        "!git clone https://github.com/Jeder14/numpy-proyecto1.git"
      ]
    },
    {
      "cell_type": "code",
      "source": [
        "import numpy as np"
      ],
      "metadata": {
        "id": "pun4pqvfYRiv"
      },
      "execution_count": null,
      "outputs": []
    },
    {
      "cell_type": "code",
      "source": [
        "np.arange(1,6,1)"
      ],
      "metadata": {
        "colab": {
          "base_uri": "https://localhost:8080/"
        },
        "id": "vNDkj8tadLyQ",
        "outputId": "6787ce26-18fa-4086-dad9-460a5387e020"
      },
      "execution_count": null,
      "outputs": [
        {
          "output_type": "execute_result",
          "data": {
            "text/plain": [
              "array([1, 2, 3, 4, 5])"
            ]
          },
          "metadata": {},
          "execution_count": 55
        }
      ]
    },
    {
      "cell_type": "code",
      "source": [
        "#skiprows sirve para saltarse la columna de encabezado\n",
        "datos = np.loadtxt(\"/content/numpy-proyecto1/Data/citrus.csv\", delimiter=\",\", usecols = np.arange(1,6,1), skiprows=1)\n",
        "datos"
      ],
      "metadata": {
        "colab": {
          "base_uri": "https://localhost:8080/"
        },
        "id": "1T9rt-YBYUEe",
        "outputId": "f2c9d72d-06c7-4abd-d70a-bba8bda9dcfa"
      },
      "execution_count": null,
      "outputs": [
        {
          "output_type": "execute_result",
          "data": {
            "text/plain": [
              "array([[  2.96,  86.76, 172.  ,  85.  ,   2.  ],\n",
              "       [  3.91,  88.05, 166.  ,  78.  ,   3.  ],\n",
              "       [  4.42,  95.17, 156.  ,  81.  ,   2.  ],\n",
              "       ...,\n",
              "       [ 15.59, 256.5 , 168.  ,  82.  ,  20.  ],\n",
              "       [ 15.92, 260.14, 142.  ,  72.  ,  11.  ],\n",
              "       [ 16.45, 261.51, 152.  ,  74.  ,   2.  ]])"
            ]
          },
          "metadata": {},
          "execution_count": 62
        }
      ]
    }
  ]
}